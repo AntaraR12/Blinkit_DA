{
 "cells": [
  {
   "cell_type": "code",
   "execution_count": 30,
   "metadata": {},
   "outputs": [],
   "source": [
    "import pandas as pd\n",
    "import numpy as np\n",
    "import seaborn as sns \n",
    "import matplotlib.pyplot as plt"
   ]
  },
  {
   "cell_type": "code",
   "execution_count": 31,
   "metadata": {},
   "outputs": [
    {
     "data": {
      "text/html": [
       "<div>\n",
       "<style scoped>\n",
       "    .dataframe tbody tr th:only-of-type {\n",
       "        vertical-align: middle;\n",
       "    }\n",
       "\n",
       "    .dataframe tbody tr th {\n",
       "        vertical-align: top;\n",
       "    }\n",
       "\n",
       "    .dataframe thead th {\n",
       "        text-align: right;\n",
       "    }\n",
       "</style>\n",
       "<table border=\"1\" class=\"dataframe\">\n",
       "  <thead>\n",
       "    <tr style=\"text-align: right;\">\n",
       "      <th></th>\n",
       "      <th>Region</th>\n",
       "      <th>Fresh</th>\n",
       "      <th>Milk</th>\n",
       "      <th>Grocery</th>\n",
       "      <th>Frozen</th>\n",
       "      <th>Detergents_Paper</th>\n",
       "      <th>Delicassen</th>\n",
       "      <th>class</th>\n",
       "    </tr>\n",
       "  </thead>\n",
       "  <tbody>\n",
       "    <tr>\n",
       "      <th>0</th>\n",
       "      <td>3</td>\n",
       "      <td>12669</td>\n",
       "      <td>9656</td>\n",
       "      <td>7561</td>\n",
       "      <td>214</td>\n",
       "      <td>2674</td>\n",
       "      <td>1338</td>\n",
       "      <td>2</td>\n",
       "    </tr>\n",
       "    <tr>\n",
       "      <th>1</th>\n",
       "      <td>3</td>\n",
       "      <td>7057</td>\n",
       "      <td>9810</td>\n",
       "      <td>9568</td>\n",
       "      <td>1762</td>\n",
       "      <td>3293</td>\n",
       "      <td>1776</td>\n",
       "      <td>2</td>\n",
       "    </tr>\n",
       "    <tr>\n",
       "      <th>2</th>\n",
       "      <td>3</td>\n",
       "      <td>6353</td>\n",
       "      <td>8808</td>\n",
       "      <td>7684</td>\n",
       "      <td>2405</td>\n",
       "      <td>3516</td>\n",
       "      <td>7844</td>\n",
       "      <td>2</td>\n",
       "    </tr>\n",
       "    <tr>\n",
       "      <th>3</th>\n",
       "      <td>3</td>\n",
       "      <td>13265</td>\n",
       "      <td>1196</td>\n",
       "      <td>4221</td>\n",
       "      <td>6404</td>\n",
       "      <td>507</td>\n",
       "      <td>1788</td>\n",
       "      <td>1</td>\n",
       "    </tr>\n",
       "    <tr>\n",
       "      <th>4</th>\n",
       "      <td>3</td>\n",
       "      <td>22615</td>\n",
       "      <td>5410</td>\n",
       "      <td>7198</td>\n",
       "      <td>3915</td>\n",
       "      <td>1777</td>\n",
       "      <td>5185</td>\n",
       "      <td>1</td>\n",
       "    </tr>\n",
       "  </tbody>\n",
       "</table>\n",
       "</div>"
      ],
      "text/plain": [
       "   Region  Fresh  Milk  Grocery  Frozen  Detergents_Paper  Delicassen  class\n",
       "0       3  12669  9656     7561     214              2674        1338      2\n",
       "1       3   7057  9810     9568    1762              3293        1776      2\n",
       "2       3   6353  8808     7684    2405              3516        7844      2\n",
       "3       3  13265  1196     4221    6404               507        1788      1\n",
       "4       3  22615  5410     7198    3915              1777        5185      1"
      ]
     },
     "execution_count": 31,
     "metadata": {},
     "output_type": "execute_result"
    }
   ],
   "source": [
    "df = pd.read_csv('https://gist.githubusercontent.com/singhsidhukuldeep/cc3c9597bce35f5f242a921eb3361c75/raw/54227431f0dc8ac1c438f438e2174d181fdda330/blinkit_multiclass.csv')\n",
    "df.head()"
   ]
  },
  {
   "cell_type": "markdown",
   "metadata": {},
   "source": [
    "Data Description\n",
    "\n",
    "feature\t            Description\n",
    "\n",
    "Region:\t            where the store is located (1: Tier-1 city, 2: Tier-2 city, 3:Tier-3 city)\n",
    "\n",
    "Fresh:\t            purchase history of Fresh food\n",
    "\n",
    "Milk:\t            purchase history of milk product\n",
    "\n",
    "Grocery:\t        purchase history of Grocery\n",
    "\n",
    "Frozen:\t            purchase history of Frozen food\n",
    "\n",
    "Detergents_Paper:\tpurchase history of washing products\n",
    "\n",
    "Delicassen:\t        purchase history of imported products, cooked meat\n",
    "\n",
    "class:\t            Store catgeory based on demand on products\t"
   ]
  },
  {
   "cell_type": "code",
   "execution_count": 32,
   "metadata": {},
   "outputs": [
    {
     "data": {
      "text/plain": [
       "<Axes: xlabel='class', ylabel='count'>"
      ]
     },
     "execution_count": 32,
     "metadata": {},
     "output_type": "execute_result"
    },
    {
     "data": {
      "image/png": "[encoded data removed]",
      "text/plain": [
       "<Figure size 640x480 with 1 Axes>"
      ]
     },
     "metadata": {},
     "output_type": "display_data"
    }
   ],
   "source": [
    "sns.countplot(data = df, x = 'class')"
   ]
  },
  {
   "cell_type": "code",
   "execution_count": 33,
   "metadata": {},
   "outputs": [
    {
     "data": {
      "text/plain": [
       "Index(['Region', 'Fresh', 'Milk', 'Grocery', 'Frozen', 'Detergents_Paper',\n",
       "       'Delicassen', 'class'],\n",
       "      dtype='object')"
      ]
     },
     "execution_count": 33,
     "metadata": {},
     "output_type": "execute_result"
    }
   ],
   "source": [
    "df.columns"
   ]
  },
  {
   "cell_type": "code",
   "execution_count": 34,
   "metadata": {},
   "outputs": [],
   "source": [
    "X = df[['Region', 'Fresh', 'Milk', 'Grocery', 'Frozen', 'Detergents_Paper','Delicassen']].copy()\n",
    "y = df[['class']].copy()"
   ]
  },
  {
   "cell_type": "markdown",
   "metadata": {},
   "source": [
    "### Let us reduce the feature from 7 to 2"
   ]
  },
  {
   "cell_type": "code",
   "execution_count": 35,
   "metadata": {},
   "outputs": [
    {
     "name": "stdout",
     "output_type": "stream",
     "text": [
      "(440, 7)\n",
      "(440, 2)\n"
     ]
    }
   ],
   "source": [
    "from sklearn.decomposition import PCA\n",
    "pca = PCA(n_components= 2)\n",
    "print(X.shape)\n",
    "X = pca.fit_transform(X)\n",
    "print(X.shape)"
   ]
  },
  {
   "cell_type": "markdown",
   "metadata": {},
   "source": [
    "25% is test and rest 75% is broken down to train and test"
   ]
  },
  {
   "cell_type": "code",
   "execution_count": 36,
   "metadata": {},
   "outputs": [],
   "source": [
    "from sklearn.model_selection import train_test_split\n",
    "X_train_val, X_test, y_train_val, y_test = train_test_split(X, \n",
    "                                                            y.values[:,0], \n",
    "                                                            test_size= 0.25, random_state= 42)\n",
    "\n",
    "#rest 75% will be split in train and Validation \n",
    "\n",
    "X_train, X_val, y_train, y_val = train_test_split(X_train_val, \n",
    "                                                  y_train_val, \n",
    "                                                  test_size= 0.25, \n",
    "                                                  random_state= 42)"
   ]
  },
  {
   "cell_type": "code",
   "execution_count": 37,
   "metadata": {},
   "outputs": [
    {
     "name": "stdout",
     "output_type": "stream",
     "text": [
      "(247, 2) (247,)\n",
      "(83, 2) (83,)\n",
      "(110, 2) (110,)\n"
     ]
    }
   ],
   "source": [
    "print(X_train.shape, y_train.shape)\n",
    "print(X_val.shape, y_val.shape)\n",
    "print(X_test.shape, y_test.shape)"
   ]
  },
  {
   "cell_type": "markdown",
   "metadata": {},
   "source": [
    "Anytime we use an algorithm on distance we have to make sure that features are at same scale. so we use standerization\n",
    "### Standerization"
   ]
  },
  {
   "cell_type": "code",
   "execution_count": 38,
   "metadata": {},
   "outputs": [],
   "source": [
    "mu = X_train.mean()\n",
    "sig = X_train.std()"
   ]
  },
  {
   "cell_type": "code",
   "execution_count": 39,
   "metadata": {},
   "outputs": [],
   "source": [
    "X_train = (X_train-mu)/sig\n",
    "X_val = (X_val-mu)/sig\n",
    "X_test = (X_test-mu)/sig"
   ]
  },
  {
   "cell_type": "markdown",
   "metadata": {},
   "source": [
    "### KNN Algo"
   ]
  },
  {
   "cell_type": "code",
   "execution_count": 40,
   "metadata": {},
   "outputs": [
    {
     "name": "stdout",
     "output_type": "stream",
     "text": [
      "[0.14309397 1.18110906]\n",
      "all dist: [1.94482539 1.5159984  3.58348439 1.89854683 1.53423528 1.01791159\n",
      " 1.72338532]\n",
      "Distnaces with labels: [(1.9448253921765362, 2), (1.5159983957549834, 1), (3.5834843874202, 2), (1.8985468272744133, 3), (1.534235283199277, 3), (1.017911593293824, 2), (1.7233853183523948, 3)]\n",
      "Distances sorted: [(0.1735303171925501, 2), (0.33882408047225804, 2), (0.4080313193575027, 2), (0.41587026707538627, 2), (0.53971431776536, 2), (0.5996182487250811, 2), (0.6045016862791139, 2)]\n",
      "Distances top k: [(0.1735303171925501, 2), (0.33882408047225804, 2), (0.4080313193575027, 2), (0.41587026707538627, 2), (0.53971431776536, 2), (0.5996182487250811, 2), (0.6045016862791139, 2), (0.6317539993939535, 2), (0.6587608752112633, 2), (0.6826885539435081, 2), (0.7041658434195189, 2), (0.8049957268643527, 2), (0.8614253915676962, 2), (0.8743150291082724, 2), (0.8948641082264043, 2), (0.925148663246564, 2), (0.9333514491225142, 2), (0.9417023569018909, 2), (0.9492379034524128, 2), (0.9593562277882716, 2), (0.9701579128061526, 2), (0.9709196569091293, 2), (1.0005307057552217, 2), (1.0150105826251532, 2), (1.017911593293824, 2), (1.0233163887624597, 2), (1.0480768909366203, 2), (1.0584901063160048, 2), (1.060251192752743, 2), (1.060861308270962, 2), (1.0674335392997474, 2), (1.0717282887277961, 2), (1.0813893050127765, 2), (1.0901365627272497, 2), (1.1131342305847256, 2), (1.113354562843934, 2), (1.1219140942262313, 2), (1.1349374086782125, 2), (1.1482681672533315, 2), (1.1562695997560142, 2), (1.156710741803032, 2), (1.159581613533909, 2), (1.16135123643637, 2), (1.164846390710135, 2), (1.1809594143645488, 2), (1.1847083986846387, 2), (1.1991385232415193, 2), (1.2165988552763498, 2), (1.2173316474745342, 2), (1.226189603901872, 2), (1.2365932009111802, 2), (1.2394972621260254, 2), (1.2593967558780996, 3), (1.265103757083136, 2), (1.2659786864341243, 2), (1.2716460140184056, 2), (1.279417789769824, 2), (1.290886418034872, 2), (1.297891556575569, 3), (1.3040329507063686, 2), (1.3143805533586295, 1), (1.318737064812583, 2), (1.32277709076544, 3), (1.3374192016905952, 2), (1.3549608233665624, 3), (1.357227369455424, 2), (1.3784660693451458, 3), (1.3870569715827723, 3), (1.4020283099857969, 3), (1.4113773216670922, 3), (1.4173488600881605, 3), (1.4243979051910776, 1), (1.450065824525914, 3), (1.4551067357301262, 2), (1.4582733382755413, 2), (1.463290198282574, 2), (1.478171282427809, 3), (1.492768474908573, 3), (1.4997914219501405, 3), (1.5077656136929367, 3), (1.5159983957549834, 1), (1.521839904020469, 3), (1.534235283199277, 3), (1.55230260709907, 1), (1.5540638434371934, 2), (1.5555898999913058, 1), (1.5705230350831543, 3), (1.572457863741342, 2), (1.5736930693365243, 1), (1.5747666493071935, 3), (1.593436686294773, 1), (1.6100976679479195, 3), (1.6194476900991805, 3), (1.6300091280895785, 3), (1.6455431834138161, 3), (1.671188774699984, 3), (1.672674239002673, 1), (1.6729348457661093, 3), (1.6840407682990695, 3), (1.6853419087610853, 3)]\n",
      "k nearest neighbours with the distance and class label:[(0.1735303171925501, 2), (0.33882408047225804, 2), (0.4080313193575027, 2), (0.41587026707538627, 2), (0.53971431776536, 2), (0.5996182487250811, 2), (0.6045016862791139, 2), (0.6317539993939535, 2), (0.6587608752112633, 2), (0.6826885539435081, 2), (0.7041658434195189, 2), (0.8049957268643527, 2), (0.8614253915676962, 2), (0.8743150291082724, 2), (0.8948641082264043, 2), (0.925148663246564, 2), (0.9333514491225142, 2), (0.9417023569018909, 2), (0.9492379034524128, 2), (0.9593562277882716, 2), (0.9701579128061526, 2), (0.9709196569091293, 2), (1.0005307057552217, 2), (1.0150105826251532, 2), (1.017911593293824, 2), (1.0233163887624597, 2), (1.0480768909366203, 2), (1.0584901063160048, 2), (1.060251192752743, 2), (1.060861308270962, 2), (1.0674335392997474, 2), (1.0717282887277961, 2), (1.0813893050127765, 2), (1.0901365627272497, 2), (1.1131342305847256, 2), (1.113354562843934, 2), (1.1219140942262313, 2), (1.1349374086782125, 2), (1.1482681672533315, 2), (1.1562695997560142, 2), (1.156710741803032, 2), (1.159581613533909, 2), (1.16135123643637, 2), (1.164846390710135, 2), (1.1809594143645488, 2), (1.1847083986846387, 2), (1.1991385232415193, 2), (1.2165988552763498, 2), (1.2173316474745342, 2), (1.226189603901872, 2), (1.2365932009111802, 2), (1.2394972621260254, 2), (1.2593967558780996, 3), (1.265103757083136, 2), (1.2659786864341243, 2), (1.2716460140184056, 2), (1.279417789769824, 2), (1.290886418034872, 2), (1.297891556575569, 3), (1.3040329507063686, 2), (1.3143805533586295, 1), (1.318737064812583, 2), (1.32277709076544, 3), (1.3374192016905952, 2), (1.3549608233665624, 3), (1.357227369455424, 2), (1.3784660693451458, 3), (1.3870569715827723, 3), (1.4020283099857969, 3), (1.4113773216670922, 3), (1.4173488600881605, 3), (1.4243979051910776, 1), (1.450065824525914, 3), (1.4551067357301262, 2), (1.4582733382755413, 2), (1.463290198282574, 2), (1.478171282427809, 3), (1.492768474908573, 3), (1.4997914219501405, 3), (1.5077656136929367, 3), (1.5159983957549834, 1), (1.521839904020469, 3), (1.534235283199277, 3), (1.55230260709907, 1), (1.5540638434371934, 2), (1.5555898999913058, 1), (1.5705230350831543, 3), (1.572457863741342, 2), (1.5736930693365243, 1), (1.5747666493071935, 3), (1.593436686294773, 1), (1.6100976679479195, 3), (1.6194476900991805, 3), (1.6300091280895785, 3), (1.6455431834138161, 3), (1.671188774699984, 3), (1.672674239002673, 1), (1.6729348457661093, 3), (1.6840407682990695, 3), (1.6853419087610853, 3)]\n",
      "Distances top k as np array: [[0.17353032 2.        ]\n",
      " [0.33882408 2.        ]\n",
      " [0.40803132 2.        ]\n",
      " [0.41587027 2.        ]\n",
      " [0.53971432 2.        ]\n",
      " [0.59961825 2.        ]\n",
      " [0.60450169 2.        ]\n",
      " [0.631754   2.        ]\n",
      " [0.65876088 2.        ]\n",
      " [0.68268855 2.        ]\n",
      " [0.70416584 2.        ]\n",
      " [0.80499573 2.        ]\n",
      " [0.86142539 2.        ]\n",
      " [0.87431503 2.        ]\n",
      " [0.89486411 2.        ]\n",
      " [0.92514866 2.        ]\n",
      " [0.93335145 2.        ]\n",
      " [0.94170236 2.        ]\n",
      " [0.9492379  2.        ]\n",
      " [0.95935623 2.        ]\n",
      " [0.97015791 2.        ]\n",
      " [0.97091966 2.        ]\n",
      " [1.00053071 2.        ]\n",
      " [1.01501058 2.        ]\n",
      " [1.01791159 2.        ]\n",
      " [1.02331639 2.        ]\n",
      " [1.04807689 2.        ]\n",
      " [1.05849011 2.        ]\n",
      " [1.06025119 2.        ]\n",
      " [1.06086131 2.        ]\n",
      " [1.06743354 2.        ]\n",
      " [1.07172829 2.        ]\n",
      " [1.08138931 2.        ]\n",
      " [1.09013656 2.        ]\n",
      " [1.11313423 2.        ]\n",
      " [1.11335456 2.        ]\n",
      " [1.12191409 2.        ]\n",
      " [1.13493741 2.        ]\n",
      " [1.14826817 2.        ]\n",
      " [1.1562696  2.        ]\n",
      " [1.15671074 2.        ]\n",
      " [1.15958161 2.        ]\n",
      " [1.16135124 2.        ]\n",
      " [1.16484639 2.        ]\n",
      " [1.18095941 2.        ]\n",
      " [1.1847084  2.        ]\n",
      " [1.19913852 2.        ]\n",
      " [1.21659886 2.        ]\n",
      " [1.21733165 2.        ]\n",
      " [1.2261896  2.        ]\n",
      " [1.2365932  2.        ]\n",
      " [1.23949726 2.        ]\n",
      " [1.25939676 3.        ]\n",
      " [1.26510376 2.        ]\n",
      " [1.26597869 2.        ]\n",
      " [1.27164601 2.        ]\n",
      " [1.27941779 2.        ]\n",
      " [1.29088642 2.        ]\n",
      " [1.29789156 3.        ]\n",
      " [1.30403295 2.        ]\n",
      " [1.31438055 1.        ]\n",
      " [1.31873706 2.        ]\n",
      " [1.32277709 3.        ]\n",
      " [1.3374192  2.        ]\n",
      " [1.35496082 3.        ]\n",
      " [1.35722737 2.        ]\n",
      " [1.37846607 3.        ]\n",
      " [1.38705697 3.        ]\n",
      " [1.40202831 3.        ]\n",
      " [1.41137732 3.        ]\n",
      " [1.41734886 3.        ]\n",
      " [1.42439791 1.        ]\n",
      " [1.45006582 3.        ]\n",
      " [1.45510674 2.        ]\n",
      " [1.45827334 2.        ]\n",
      " [1.4632902  2.        ]\n",
      " [1.47817128 3.        ]\n",
      " [1.49276847 3.        ]\n",
      " [1.49979142 3.        ]\n",
      " [1.50776561 3.        ]\n",
      " [1.5159984  1.        ]\n",
      " [1.5218399  3.        ]\n",
      " [1.53423528 3.        ]\n",
      " [1.55230261 1.        ]\n",
      " [1.55406384 2.        ]\n",
      " [1.5555899  1.        ]\n",
      " [1.57052304 3.        ]\n",
      " [1.57245786 2.        ]\n",
      " [1.57369307 1.        ]\n",
      " [1.57476665 3.        ]\n",
      " [1.59343669 1.        ]\n",
      " [1.61009767 3.        ]\n",
      " [1.61944769 3.        ]\n",
      " [1.63000913 3.        ]\n",
      " [1.64554318 3.        ]\n",
      " [1.67118877 3.        ]\n",
      " [1.67267424 1.        ]\n",
      " [1.67293485 3.        ]\n",
      " [1.68404077 3.        ]\n",
      " [1.68534191 3.        ]]\n",
      "classes_counts: (array([1., 2., 3.]), array([ 8, 66, 26]))\n",
      "prediction: 2.0 at index 1 in classes_counts (array([1., 2., 3.]), array([ 8, 66, 26]))\n",
      "2\n"
     ]
    }
   ],
   "source": [
    "def knn(X,Y, queryPoint, k = 5):\n",
    "\n",
    "    #Euclidean Distance \n",
    "    dist = np.sqrt(np.sum((queryPoint-X)**2, axis= 1))\n",
    "    print('all dist:', dist[:7])\n",
    "\n",
    "    #Storing distance and Class Labels togather\n",
    "    distances = [(dist[i], Y[i])for i in range(len(dist))]\n",
    "    print('Distnaces with labels:', distances[:7])\n",
    "\n",
    "    #sort the distances \n",
    "    distances = sorted(distances, key = lambda x:x[0])\n",
    "    print('Distances sorted:', distances[:7])\n",
    "\n",
    "    #Nearest/First K points\n",
    "    distances = distances[:k]\n",
    "    print('Distances top k:', distances)\n",
    "\n",
    "    print(f'k nearest neighbours with the distance and class label:{distances}')\n",
    "\n",
    "    distances = np.array(distances)\n",
    "\n",
    "    print('Distances top k as np array:', distances)\n",
    "\n",
    "    classes_count = np.unique(distances[:,1], return_counts= True)\n",
    "    print('classes_counts:', classes_count)\n",
    "\n",
    "    index = classes_count[1].argmax()\n",
    "    pred = classes_count[0][index]\n",
    "    print(f\"prediction: {pred} at index {index} in classes_counts {classes_count}\")\n",
    "\n",
    "    return int(pred)\n",
    "\n",
    "# predicting \n",
    "\n",
    "print(X_test[50])\n",
    "print(knn(X_train, y_train, X_test[50], k = 100))\n",
    "\n",
    "\n",
    "    "
   ]
  }
 ],
 "metadata": {
  "kernelspec": {
   "display_name": "ds_work",
   "language": "python",
   "name": "python3"
  },
  "language_info": {
   "codemirror_mode": {
    "name": "ipython",
    "version": 3
   },
   "file_extension": ".py",
   "mimetype": "text/x-python",
   "name": "python",
   "nbconvert_exporter": "python",
   "pygments_lexer": "ipython3",
   "version": "3.10.13"
  }
 },
 "nbformat": 4,
 "nbformat_minor": 2
}
